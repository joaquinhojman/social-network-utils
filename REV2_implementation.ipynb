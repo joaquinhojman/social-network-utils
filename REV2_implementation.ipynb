{
  "cells": [
    {
      "cell_type": "markdown",
      "source": [
        "### DATASET : [kaggle.com/datasets/saurav9786/amazon-product-reviews](https://)"
      ],
      "metadata": {
        "id": "OSTWkCtSduqA"
      }
    },
    {
      "cell_type": "markdown",
      "source": [
        "## REV2 IMPLEMENTATION\n",
        "\n",
        "Se nos entrega un set de datos de reviews de productos de Amazon y buscamos detectar usuarios potencialmente maliciosos y otros que sean honestos. Consideraremos malicioso a un usuario cuya justicia sea menor a 0.2 y tenga al menos 5 reviews. Consideramos extremadamente justos a aquellos usuarios que tengan justicia mayor a 0.9 y con al menos 10 reviews. Para lograr esto utilizaremos el algoritmo REV2.\n",
        "\n",
        "El set de datos de productos de amazon se compone de cuatro columnas que son las siguientes:\n",
        "\n",
        "    - ID unico de cada usuario\n",
        "    \n",
        "    - ID unico de cada producto\n",
        "    \n",
        "    - Rating que el usuario le puso al producto. En el set este valor va de 1 a 5, pero nosotros le aplicaremos la conversión (valor - 3) / 2 para tenerlo entre -1 y 1.\n",
        "    \n",
        "    - Timestamp del momento que se hizo el rating.\n",
        "\n",
        "El algoritmo REV2 recibe como entrada un grafo bipartito con los ratings, donde los nodos son usuarios y productos y las aristas son las reviews con peso entre -1 y 1. \n",
        "\n",
        "Cada usuario u tiene una noción de justicia F(u), cada producto p tiene un valor G(p), y cada rating con un usuario u que reseña un producto p tiene una fiabilidad R(u,p). Inicialmente no tenemos ninguno de estos valores así que los seteamos todos en 1. Lo que nosotros queremos obtener son aquellos usuarios u cuyo F(u) sea menor o igual a 0.2 con al menos 5 reviews y aquellos usuarios u con F(u) mayor o igual 0.9 y al menos 10 reviews.\n",
        "\n",
        "Para calcular los valores pedidos hacemos una clasificación iterativa que se describe de la siguiente forma: Para cada usuario u recorremos todos los productos que rankeo actualizando su F(u) utilizando la sumatoria de la fiabilidad actual de sus ratings. Luego para cada producto p actualizamos su valor G(p) teniendo en cuenta la fiabilidad de sus ratings multiplicado por el score que le puso cada usuario que los rankeo. Por ultimo actualizamos la fiabilidad del ranking que le puso cada usuario a cada producto teniendo en cuenta los parámetros alpha1 y alpha 2, ademas de los que actualizamos en esta iteración: F(u), G(p) y el score de ese usuario a ese producto. \n",
        "\n",
        "Repitiendo este procedimiento varias veces podemos lograr un F(u) para cada usuario u que converga al valor correcto y en base a eso decimos si un usuario es malicioso o extremadamente justo. Por supuesto, mientras mas cercano al 0 mas malicioso el usuario y mientras mas cercano al 1, mas justo es, aunque deben haber varios reviews para que esos valores se consideren validos.\n",
        "\n"
      ],
      "metadata": {
        "id": "yU1m2dGMcW2X"
      }
    },
    {
      "cell_type": "code",
      "execution_count": null,
      "metadata": {
        "id": "HOn8zCc6ySl0"
      },
      "outputs": [],
      "source": [
        "## Code to read csv file into Colaboratory:\n",
        "#!pip install -U -q PyDrive\n",
        "#from pydrive.auth import GoogleAuth\n",
        "#from pydrive.drive import GoogleDrive\n",
        "#from google.colab import auth\n",
        "#from oauth2client.client import GoogleCredentials\n",
        "## Authenticate and create the PyDrive client.\n",
        "#auth.authenticate_user()\n",
        "#gauth = GoogleAuth()\n",
        "#gauth.credentials = GoogleCredentials.get_application_default()\n",
        "#drive = GoogleDrive(gauth)\n"
      ]
    },
    {
      "cell_type": "code",
      "execution_count": null,
      "metadata": {
        "id": "4h7dgMT-zLPD"
      },
      "outputs": [],
      "source": [
        "#link = 'https://drive.google.com/file/d/1lI2FDIgpSy1jNYsfl7FY9_gBX7g90Big/view?usp=sharing'\n",
        "#fluff, id = link.split('=')\n",
        "#print (id) # Verify that you have everything after '='\n",
        "#id = '1lI2FDIgpSy1jNYsfl7FY9_gBX7g90Big'"
      ]
    },
    {
      "cell_type": "code",
      "execution_count": null,
      "metadata": {
        "id": "GZAo8GnIz44c"
      },
      "outputs": [],
      "source": [
        "import pandas as pd"
      ]
    },
    {
      "cell_type": "code",
      "execution_count": null,
      "metadata": {
        "id": "D-LrnBuYzbcC"
      },
      "outputs": [],
      "source": [
        "#downloaded = drive.CreateFile({'id':id}) \n",
        "#downloaded.GetContentFile('ratings_Electronics.csv')  \n",
        "df3 = pd.read_csv('ratings_Electronics.csv')\n",
        "# Dataset is now stored in a Pandas Dataframe\n"
      ]
    },
    {
      "cell_type": "code",
      "execution_count": null,
      "metadata": {
        "colab": {
          "base_uri": "https://localhost:8080/",
          "height": 424
        },
        "id": "YQMlw80n0IjN",
        "outputId": "3f08cced-8e2a-4c7c-aa52-a275199c9e17"
      },
      "outputs": [
        {
          "data": {
            "text/html": [
              "<div>\n",
              "<style scoped>\n",
              "    .dataframe tbody tr th:only-of-type {\n",
              "        vertical-align: middle;\n",
              "    }\n",
              "\n",
              "    .dataframe tbody tr th {\n",
              "        vertical-align: top;\n",
              "    }\n",
              "\n",
              "    .dataframe thead th {\n",
              "        text-align: right;\n",
              "    }\n",
              "</style>\n",
              "<table border=\"1\" class=\"dataframe\">\n",
              "  <thead>\n",
              "    <tr style=\"text-align: right;\">\n",
              "      <th></th>\n",
              "      <th>AKM1MP6P0OYPR</th>\n",
              "      <th>0132793040</th>\n",
              "      <th>5.0</th>\n",
              "      <th>1365811200</th>\n",
              "    </tr>\n",
              "  </thead>\n",
              "  <tbody>\n",
              "    <tr>\n",
              "      <th>0</th>\n",
              "      <td>A2CX7LUOHB2NDG</td>\n",
              "      <td>0321732944</td>\n",
              "      <td>5.0</td>\n",
              "      <td>1341100800</td>\n",
              "    </tr>\n",
              "    <tr>\n",
              "      <th>1</th>\n",
              "      <td>A2NWSAGRHCP8N5</td>\n",
              "      <td>0439886341</td>\n",
              "      <td>1.0</td>\n",
              "      <td>1367193600</td>\n",
              "    </tr>\n",
              "    <tr>\n",
              "      <th>2</th>\n",
              "      <td>A2WNBOD3WNDNKT</td>\n",
              "      <td>0439886341</td>\n",
              "      <td>3.0</td>\n",
              "      <td>1374451200</td>\n",
              "    </tr>\n",
              "    <tr>\n",
              "      <th>3</th>\n",
              "      <td>A1GI0U4ZRJA8WN</td>\n",
              "      <td>0439886341</td>\n",
              "      <td>1.0</td>\n",
              "      <td>1334707200</td>\n",
              "    </tr>\n",
              "    <tr>\n",
              "      <th>4</th>\n",
              "      <td>A1QGNMC6O1VW39</td>\n",
              "      <td>0511189877</td>\n",
              "      <td>5.0</td>\n",
              "      <td>1397433600</td>\n",
              "    </tr>\n",
              "    <tr>\n",
              "      <th>...</th>\n",
              "      <td>...</td>\n",
              "      <td>...</td>\n",
              "      <td>...</td>\n",
              "      <td>...</td>\n",
              "    </tr>\n",
              "    <tr>\n",
              "      <th>7824476</th>\n",
              "      <td>A2YZI3C9MOHC0L</td>\n",
              "      <td>BT008UKTMW</td>\n",
              "      <td>5.0</td>\n",
              "      <td>1396569600</td>\n",
              "    </tr>\n",
              "    <tr>\n",
              "      <th>7824477</th>\n",
              "      <td>A322MDK0M89RHN</td>\n",
              "      <td>BT008UKTMW</td>\n",
              "      <td>5.0</td>\n",
              "      <td>1313366400</td>\n",
              "    </tr>\n",
              "    <tr>\n",
              "      <th>7824478</th>\n",
              "      <td>A1MH90R0ADMIK0</td>\n",
              "      <td>BT008UKTMW</td>\n",
              "      <td>4.0</td>\n",
              "      <td>1404172800</td>\n",
              "    </tr>\n",
              "    <tr>\n",
              "      <th>7824479</th>\n",
              "      <td>A10M2KEFPEQDHN</td>\n",
              "      <td>BT008UKTMW</td>\n",
              "      <td>4.0</td>\n",
              "      <td>1297555200</td>\n",
              "    </tr>\n",
              "    <tr>\n",
              "      <th>7824480</th>\n",
              "      <td>A2G81TMIOIDEQQ</td>\n",
              "      <td>BT008V9J9U</td>\n",
              "      <td>5.0</td>\n",
              "      <td>1312675200</td>\n",
              "    </tr>\n",
              "  </tbody>\n",
              "</table>\n",
              "<p>7824481 rows × 4 columns</p>\n",
              "</div>"
            ],
            "text/plain": [
              "          AKM1MP6P0OYPR  0132793040  5.0  1365811200\n",
              "0        A2CX7LUOHB2NDG  0321732944  5.0  1341100800\n",
              "1        A2NWSAGRHCP8N5  0439886341  1.0  1367193600\n",
              "2        A2WNBOD3WNDNKT  0439886341  3.0  1374451200\n",
              "3        A1GI0U4ZRJA8WN  0439886341  1.0  1334707200\n",
              "4        A1QGNMC6O1VW39  0511189877  5.0  1397433600\n",
              "...                 ...         ...  ...         ...\n",
              "7824476  A2YZI3C9MOHC0L  BT008UKTMW  5.0  1396569600\n",
              "7824477  A322MDK0M89RHN  BT008UKTMW  5.0  1313366400\n",
              "7824478  A1MH90R0ADMIK0  BT008UKTMW  4.0  1404172800\n",
              "7824479  A10M2KEFPEQDHN  BT008UKTMW  4.0  1297555200\n",
              "7824480  A2G81TMIOIDEQQ  BT008V9J9U  5.0  1312675200\n",
              "\n",
              "[7824481 rows x 4 columns]"
            ]
          },
          "execution_count": 5,
          "metadata": {},
          "output_type": "execute_result"
        }
      ],
      "source": [
        "df3"
      ]
    },
    {
      "cell_type": "code",
      "execution_count": null,
      "metadata": {
        "colab": {
          "base_uri": "https://localhost:8080/",
          "height": 424
        },
        "id": "OHr_b_SD0MpO",
        "outputId": "05e86f22-13ab-45a0-be6f-ecd8e718e81b"
      },
      "outputs": [
        {
          "name": "stderr",
          "output_type": "stream",
          "text": [
            "C:\\Users\\jhojman\\AppData\\Local\\Temp\\ipykernel_10916\\1926420999.py:3: FutureWarning: The frame.append method is deprecated and will be removed from pandas in a future version. Use pandas.concat instead.\n",
            "  df3=df3.append({'userID' : 'AKM1MP6P0OYPR' , 'productID' : '0132793040', 'rating' : '5.0', 'timestamp' : '1365811200'}, ignore_index=True)\n"
          ]
        },
        {
          "data": {
            "text/html": [
              "<div>\n",
              "<style scoped>\n",
              "    .dataframe tbody tr th:only-of-type {\n",
              "        vertical-align: middle;\n",
              "    }\n",
              "\n",
              "    .dataframe tbody tr th {\n",
              "        vertical-align: top;\n",
              "    }\n",
              "\n",
              "    .dataframe thead th {\n",
              "        text-align: right;\n",
              "    }\n",
              "</style>\n",
              "<table border=\"1\" class=\"dataframe\">\n",
              "  <thead>\n",
              "    <tr style=\"text-align: right;\">\n",
              "      <th></th>\n",
              "      <th>userID</th>\n",
              "      <th>productID</th>\n",
              "      <th>rating</th>\n",
              "      <th>timestamp</th>\n",
              "    </tr>\n",
              "  </thead>\n",
              "  <tbody>\n",
              "    <tr>\n",
              "      <th>0</th>\n",
              "      <td>A2CX7LUOHB2NDG</td>\n",
              "      <td>0321732944</td>\n",
              "      <td>5.0</td>\n",
              "      <td>1341100800</td>\n",
              "    </tr>\n",
              "    <tr>\n",
              "      <th>1</th>\n",
              "      <td>A2NWSAGRHCP8N5</td>\n",
              "      <td>0439886341</td>\n",
              "      <td>1.0</td>\n",
              "      <td>1367193600</td>\n",
              "    </tr>\n",
              "    <tr>\n",
              "      <th>2</th>\n",
              "      <td>A2WNBOD3WNDNKT</td>\n",
              "      <td>0439886341</td>\n",
              "      <td>3.0</td>\n",
              "      <td>1374451200</td>\n",
              "    </tr>\n",
              "    <tr>\n",
              "      <th>3</th>\n",
              "      <td>A1GI0U4ZRJA8WN</td>\n",
              "      <td>0439886341</td>\n",
              "      <td>1.0</td>\n",
              "      <td>1334707200</td>\n",
              "    </tr>\n",
              "    <tr>\n",
              "      <th>4</th>\n",
              "      <td>A1QGNMC6O1VW39</td>\n",
              "      <td>0511189877</td>\n",
              "      <td>5.0</td>\n",
              "      <td>1397433600</td>\n",
              "    </tr>\n",
              "    <tr>\n",
              "      <th>...</th>\n",
              "      <td>...</td>\n",
              "      <td>...</td>\n",
              "      <td>...</td>\n",
              "      <td>...</td>\n",
              "    </tr>\n",
              "    <tr>\n",
              "      <th>7824477</th>\n",
              "      <td>A322MDK0M89RHN</td>\n",
              "      <td>BT008UKTMW</td>\n",
              "      <td>5.0</td>\n",
              "      <td>1313366400</td>\n",
              "    </tr>\n",
              "    <tr>\n",
              "      <th>7824478</th>\n",
              "      <td>A1MH90R0ADMIK0</td>\n",
              "      <td>BT008UKTMW</td>\n",
              "      <td>4.0</td>\n",
              "      <td>1404172800</td>\n",
              "    </tr>\n",
              "    <tr>\n",
              "      <th>7824479</th>\n",
              "      <td>A10M2KEFPEQDHN</td>\n",
              "      <td>BT008UKTMW</td>\n",
              "      <td>4.0</td>\n",
              "      <td>1297555200</td>\n",
              "    </tr>\n",
              "    <tr>\n",
              "      <th>7824480</th>\n",
              "      <td>A2G81TMIOIDEQQ</td>\n",
              "      <td>BT008V9J9U</td>\n",
              "      <td>5.0</td>\n",
              "      <td>1312675200</td>\n",
              "    </tr>\n",
              "    <tr>\n",
              "      <th>7824481</th>\n",
              "      <td>AKM1MP6P0OYPR</td>\n",
              "      <td>0132793040</td>\n",
              "      <td>5.0</td>\n",
              "      <td>1365811200</td>\n",
              "    </tr>\n",
              "  </tbody>\n",
              "</table>\n",
              "<p>7824482 rows × 4 columns</p>\n",
              "</div>"
            ],
            "text/plain": [
              "                 userID   productID rating   timestamp\n",
              "0        A2CX7LUOHB2NDG  0321732944    5.0  1341100800\n",
              "1        A2NWSAGRHCP8N5  0439886341    1.0  1367193600\n",
              "2        A2WNBOD3WNDNKT  0439886341    3.0  1374451200\n",
              "3        A1GI0U4ZRJA8WN  0439886341    1.0  1334707200\n",
              "4        A1QGNMC6O1VW39  0511189877    5.0  1397433600\n",
              "...                 ...         ...    ...         ...\n",
              "7824477  A322MDK0M89RHN  BT008UKTMW    5.0  1313366400\n",
              "7824478  A1MH90R0ADMIK0  BT008UKTMW    4.0  1404172800\n",
              "7824479  A10M2KEFPEQDHN  BT008UKTMW    4.0  1297555200\n",
              "7824480  A2G81TMIOIDEQQ  BT008V9J9U    5.0  1312675200\n",
              "7824481   AKM1MP6P0OYPR  0132793040    5.0  1365811200\n",
              "\n",
              "[7824482 rows x 4 columns]"
            ]
          },
          "execution_count": 6,
          "metadata": {},
          "output_type": "execute_result"
        }
      ],
      "source": [
        "df3.columns = ['userID', 'productID', 'rating', 'timestamp']\n",
        "df3.columns\n",
        "df3=df3.append({'userID' : 'AKM1MP6P0OYPR' , 'productID' : '0132793040', 'rating' : '5.0', 'timestamp' : '1365811200'}, ignore_index=True)\n",
        "df3"
      ]
    },
    {
      "cell_type": "code",
      "execution_count": null,
      "metadata": {
        "colab": {
          "base_uri": "https://localhost:8080/",
          "height": 424
        },
        "id": "aGLslumtrm7R",
        "outputId": "bdb088ce-79fc-436c-e5d9-00ccdd9dcd87"
      },
      "outputs": [
        {
          "data": {
            "text/html": [
              "<div>\n",
              "<style scoped>\n",
              "    .dataframe tbody tr th:only-of-type {\n",
              "        vertical-align: middle;\n",
              "    }\n",
              "\n",
              "    .dataframe tbody tr th {\n",
              "        vertical-align: top;\n",
              "    }\n",
              "\n",
              "    .dataframe thead th {\n",
              "        text-align: right;\n",
              "    }\n",
              "</style>\n",
              "<table border=\"1\" class=\"dataframe\">\n",
              "  <thead>\n",
              "    <tr style=\"text-align: right;\">\n",
              "      <th></th>\n",
              "      <th>userID</th>\n",
              "      <th>productID</th>\n",
              "      <th>rating</th>\n",
              "    </tr>\n",
              "  </thead>\n",
              "  <tbody>\n",
              "    <tr>\n",
              "      <th>0</th>\n",
              "      <td>A2CX7LUOHB2NDG</td>\n",
              "      <td>0321732944</td>\n",
              "      <td>5.0</td>\n",
              "    </tr>\n",
              "    <tr>\n",
              "      <th>1</th>\n",
              "      <td>A2NWSAGRHCP8N5</td>\n",
              "      <td>0439886341</td>\n",
              "      <td>1.0</td>\n",
              "    </tr>\n",
              "    <tr>\n",
              "      <th>2</th>\n",
              "      <td>A2WNBOD3WNDNKT</td>\n",
              "      <td>0439886341</td>\n",
              "      <td>3.0</td>\n",
              "    </tr>\n",
              "    <tr>\n",
              "      <th>3</th>\n",
              "      <td>A1GI0U4ZRJA8WN</td>\n",
              "      <td>0439886341</td>\n",
              "      <td>1.0</td>\n",
              "    </tr>\n",
              "    <tr>\n",
              "      <th>4</th>\n",
              "      <td>A1QGNMC6O1VW39</td>\n",
              "      <td>0511189877</td>\n",
              "      <td>5.0</td>\n",
              "    </tr>\n",
              "    <tr>\n",
              "      <th>...</th>\n",
              "      <td>...</td>\n",
              "      <td>...</td>\n",
              "      <td>...</td>\n",
              "    </tr>\n",
              "    <tr>\n",
              "      <th>7824477</th>\n",
              "      <td>A322MDK0M89RHN</td>\n",
              "      <td>BT008UKTMW</td>\n",
              "      <td>5.0</td>\n",
              "    </tr>\n",
              "    <tr>\n",
              "      <th>7824478</th>\n",
              "      <td>A1MH90R0ADMIK0</td>\n",
              "      <td>BT008UKTMW</td>\n",
              "      <td>4.0</td>\n",
              "    </tr>\n",
              "    <tr>\n",
              "      <th>7824479</th>\n",
              "      <td>A10M2KEFPEQDHN</td>\n",
              "      <td>BT008UKTMW</td>\n",
              "      <td>4.0</td>\n",
              "    </tr>\n",
              "    <tr>\n",
              "      <th>7824480</th>\n",
              "      <td>A2G81TMIOIDEQQ</td>\n",
              "      <td>BT008V9J9U</td>\n",
              "      <td>5.0</td>\n",
              "    </tr>\n",
              "    <tr>\n",
              "      <th>7824481</th>\n",
              "      <td>AKM1MP6P0OYPR</td>\n",
              "      <td>0132793040</td>\n",
              "      <td>5.0</td>\n",
              "    </tr>\n",
              "  </tbody>\n",
              "</table>\n",
              "<p>7824482 rows × 3 columns</p>\n",
              "</div>"
            ],
            "text/plain": [
              "                 userID   productID rating\n",
              "0        A2CX7LUOHB2NDG  0321732944    5.0\n",
              "1        A2NWSAGRHCP8N5  0439886341    1.0\n",
              "2        A2WNBOD3WNDNKT  0439886341    3.0\n",
              "3        A1GI0U4ZRJA8WN  0439886341    1.0\n",
              "4        A1QGNMC6O1VW39  0511189877    5.0\n",
              "...                 ...         ...    ...\n",
              "7824477  A322MDK0M89RHN  BT008UKTMW    5.0\n",
              "7824478  A1MH90R0ADMIK0  BT008UKTMW    4.0\n",
              "7824479  A10M2KEFPEQDHN  BT008UKTMW    4.0\n",
              "7824480  A2G81TMIOIDEQQ  BT008V9J9U    5.0\n",
              "7824481   AKM1MP6P0OYPR  0132793040    5.0\n",
              "\n",
              "[7824482 rows x 3 columns]"
            ]
          },
          "execution_count": 7,
          "metadata": {},
          "output_type": "execute_result"
        }
      ],
      "source": [
        "df3 = df3.drop(columns=['timestamp'])\n",
        "df3"
      ]
    },
    {
      "cell_type": "code",
      "execution_count": null,
      "metadata": {
        "colab": {
          "base_uri": "https://localhost:8080/",
          "height": 424
        },
        "id": "qIhrIz861H8D",
        "outputId": "9ca8606c-9cff-4ce3-f1d5-1fc8525b4714"
      },
      "outputs": [
        {
          "data": {
            "text/html": [
              "<div>\n",
              "<style scoped>\n",
              "    .dataframe tbody tr th:only-of-type {\n",
              "        vertical-align: middle;\n",
              "    }\n",
              "\n",
              "    .dataframe tbody tr th {\n",
              "        vertical-align: top;\n",
              "    }\n",
              "\n",
              "    .dataframe thead th {\n",
              "        text-align: right;\n",
              "    }\n",
              "</style>\n",
              "<table border=\"1\" class=\"dataframe\">\n",
              "  <thead>\n",
              "    <tr style=\"text-align: right;\">\n",
              "      <th></th>\n",
              "      <th>userID</th>\n",
              "      <th>productID</th>\n",
              "      <th>rating</th>\n",
              "    </tr>\n",
              "  </thead>\n",
              "  <tbody>\n",
              "    <tr>\n",
              "      <th>0</th>\n",
              "      <td>A2CX7LUOHB2NDG</td>\n",
              "      <td>0321732944</td>\n",
              "      <td>1.0</td>\n",
              "    </tr>\n",
              "    <tr>\n",
              "      <th>1</th>\n",
              "      <td>A2NWSAGRHCP8N5</td>\n",
              "      <td>0439886341</td>\n",
              "      <td>-1.0</td>\n",
              "    </tr>\n",
              "    <tr>\n",
              "      <th>2</th>\n",
              "      <td>A2WNBOD3WNDNKT</td>\n",
              "      <td>0439886341</td>\n",
              "      <td>0.0</td>\n",
              "    </tr>\n",
              "    <tr>\n",
              "      <th>3</th>\n",
              "      <td>A1GI0U4ZRJA8WN</td>\n",
              "      <td>0439886341</td>\n",
              "      <td>-1.0</td>\n",
              "    </tr>\n",
              "    <tr>\n",
              "      <th>4</th>\n",
              "      <td>A1QGNMC6O1VW39</td>\n",
              "      <td>0511189877</td>\n",
              "      <td>1.0</td>\n",
              "    </tr>\n",
              "    <tr>\n",
              "      <th>...</th>\n",
              "      <td>...</td>\n",
              "      <td>...</td>\n",
              "      <td>...</td>\n",
              "    </tr>\n",
              "    <tr>\n",
              "      <th>7824477</th>\n",
              "      <td>A322MDK0M89RHN</td>\n",
              "      <td>BT008UKTMW</td>\n",
              "      <td>1.0</td>\n",
              "    </tr>\n",
              "    <tr>\n",
              "      <th>7824478</th>\n",
              "      <td>A1MH90R0ADMIK0</td>\n",
              "      <td>BT008UKTMW</td>\n",
              "      <td>0.5</td>\n",
              "    </tr>\n",
              "    <tr>\n",
              "      <th>7824479</th>\n",
              "      <td>A10M2KEFPEQDHN</td>\n",
              "      <td>BT008UKTMW</td>\n",
              "      <td>0.5</td>\n",
              "    </tr>\n",
              "    <tr>\n",
              "      <th>7824480</th>\n",
              "      <td>A2G81TMIOIDEQQ</td>\n",
              "      <td>BT008V9J9U</td>\n",
              "      <td>1.0</td>\n",
              "    </tr>\n",
              "    <tr>\n",
              "      <th>7824481</th>\n",
              "      <td>AKM1MP6P0OYPR</td>\n",
              "      <td>0132793040</td>\n",
              "      <td>1.0</td>\n",
              "    </tr>\n",
              "  </tbody>\n",
              "</table>\n",
              "<p>7824482 rows × 3 columns</p>\n",
              "</div>"
            ],
            "text/plain": [
              "                 userID   productID  rating\n",
              "0        A2CX7LUOHB2NDG  0321732944     1.0\n",
              "1        A2NWSAGRHCP8N5  0439886341    -1.0\n",
              "2        A2WNBOD3WNDNKT  0439886341     0.0\n",
              "3        A1GI0U4ZRJA8WN  0439886341    -1.0\n",
              "4        A1QGNMC6O1VW39  0511189877     1.0\n",
              "...                 ...         ...     ...\n",
              "7824477  A322MDK0M89RHN  BT008UKTMW     1.0\n",
              "7824478  A1MH90R0ADMIK0  BT008UKTMW     0.5\n",
              "7824479  A10M2KEFPEQDHN  BT008UKTMW     0.5\n",
              "7824480  A2G81TMIOIDEQQ  BT008V9J9U     1.0\n",
              "7824481   AKM1MP6P0OYPR  0132793040     1.0\n",
              "\n",
              "[7824482 rows x 3 columns]"
            ]
          },
          "execution_count": 8,
          "metadata": {},
          "output_type": "execute_result"
        }
      ],
      "source": [
        "df3['rating'] = (df3['rating'].astype(float) - 3) / 2\n",
        "df3"
      ]
    },
    {
      "cell_type": "code",
      "execution_count": null,
      "metadata": {
        "id": "F8eOZ2ZqsCxL"
      },
      "outputs": [],
      "source": [
        "#df2 = df3.copy()\n",
        "#df2 = df2.drop(columns=['rating'])\n",
        "#df2.to_csv('ratings_Electronics_2.csv', index=False)"
      ]
    },
    {
      "cell_type": "code",
      "execution_count": null,
      "metadata": {
        "id": "4yglNysOsWov"
      },
      "outputs": [],
      "source": [
        "import networkx as nx\n",
        "G = nx.read_edgelist(\"ratings_Electronics_2.csv\", delimiter=\",\")"
      ]
    },
    {
      "cell_type": "code",
      "execution_count": null,
      "metadata": {
        "id": "TD2Pb3aR270A"
      },
      "outputs": [],
      "source": [
        "Fu = {}\n",
        "for userId in df3['userID'].unique():\n",
        "  Fu[userId] = 1"
      ]
    },
    {
      "cell_type": "code",
      "execution_count": null,
      "metadata": {
        "id": "o2lNAkmXyk8Y"
      },
      "outputs": [],
      "source": [
        "Gp = {}\n",
        "for productId in df3['productID'].unique():\n",
        "  Gp[productId] = 1"
      ]
    },
    {
      "cell_type": "code",
      "execution_count": null,
      "metadata": {
        "id": "Yim6FrJxyu78"
      },
      "outputs": [],
      "source": [
        "Rup = {}\n",
        "for fila in df3.values: \n",
        "  Rup[(fila[0], fila[1])] = 1"
      ]
    },
    {
      "cell_type": "code",
      "execution_count": null,
      "metadata": {
        "id": "kG5a7ES223ca"
      },
      "outputs": [],
      "source": [
        "rating = {}\n",
        "for fila in df3.values: \n",
        "  rating[(fila[0], fila[1])] = fila[2]"
      ]
    },
    {
      "cell_type": "code",
      "execution_count": null,
      "metadata": {
        "id": "9IgkIzXV3YPL"
      },
      "outputs": [],
      "source": [
        "alpha1 = 0.5\n",
        "alpha2 = 0.5"
      ]
    },
    {
      "cell_type": "code",
      "execution_count": null,
      "metadata": {
        "id": "t5OB3NgUt-Oz"
      },
      "outputs": [],
      "source": [
        "vecinos = nx.to_dict_of_lists(G)"
      ]
    },
    {
      "cell_type": "code",
      "execution_count": null,
      "metadata": {
        "id": "UbAam2P6zfCj",
        "outputId": "fb091518-9e51-4ae4-fa50-1b7fc233bac9"
      },
      "outputs": [
        {
          "name": "stdout",
          "output_type": "stream",
          "text": [
            "Iteracion 0\n",
            "Iteracion 1\n",
            "Iteracion 2\n",
            "Iteracion 3\n",
            "Iteracion 4\n",
            "Iteracion 5\n",
            "Iteracion 6\n",
            "Iteracion 7\n",
            "Iteracion 8\n",
            "Iteracion 9\n"
          ]
        }
      ],
      "source": [
        "###### REV2 ALGORITHM ######\n",
        "\n",
        "for i in range(0, 10):\n",
        "  print(\"Iteracion \" + str(i))\n",
        "  for userId in df3['userID'].unique():\n",
        "    sumRup = 0\n",
        "    doutu = 0\n",
        "    for productId in vecinos[userId]:\n",
        "      sumRup += Rup[(userId, productId)]\n",
        "      doutu += 1\n",
        "    Fu[userId] = sumRup / doutu \n",
        "  \n",
        "  for productId in df3['productID'].unique():\n",
        "    sumRup = 0\n",
        "    dinp = 0\n",
        "    for userId in vecinos[productId]:\n",
        "      sumRup += (Rup[(userId, productId)] * rating[(userId, productId)])\n",
        "      dinp += 1\n",
        "    Gp[productId] = sumRup / dinp\n",
        "\n",
        "  for userId in df3['userID'].unique():\n",
        "    for productId in vecinos[userId]:\n",
        "      Rup[(userId, productId)] = ( ( 1/ ( alpha1 + alpha2 ) ) * ( alpha1 * Fu[userId] + alpha2 * ( 1 - ( abs( rating[(userId, productId)] - Gp[productId] ) / 2 ) ) ) )\n",
        "\n",
        "\n"
      ]
    },
    {
      "cell_type": "code",
      "execution_count": null,
      "metadata": {
        "id": "xam7bnQzHnpf",
        "outputId": "5d97a0d2-540e-4668-9c84-cb4231a41b83"
      },
      "outputs": [
        {
          "name": "stdout",
          "output_type": "stream",
          "text": [
            "Los usuarios extremadamente justos son: {'A1LMUHXVNBLTGZ': 0.9171432351546156, 'AVVFMZTW94F8': 0.9065325064102275, 'A3R52J21NWLWW2': 0.9030553568397108, 'AF6XVE84L68BM': 0.9328663275958828, 'AI6CX6EK67FJJ': 0.923457139325409, 'A3DH74L21G9QFJ': 0.9049376622065142, 'A37FULV9NLQYXU': 0.905062503756542, 'A2GBQVP43UVKTA': 0.9066366214486032, 'AWBUA3QUM6DRY': 0.9050337642951767, 'A3EZD11AFUX23K': 0.913672871152447, 'A15BN1AMRT8FP1': 0.9154271877085898, 'A22XSRK69MIRG4': 0.9157944985804288, 'ARFRKSZXZF0PS': 0.9106756797235165, 'A127GZ51PD786F': 0.9008812106460431, 'A2ZNMPZMLRRC8R': 0.9054225910937083, 'A1ISGQPXW3BOHN': 0.9113475121955613, 'AGC75EPFB7CYD': 0.9098135724904981, 'AO49H7W3JR6RL': 0.9022963976719737, 'A2F0XN0L5K7N0T': 0.9293904056929613, 'AY5VJCY3K4DD8': 0.9173370244238613, 'A24KBB6X5URQ63': 0.9008838549371903, 'A1TR1R2QKWRSRA': 0.9110934057372163, 'A3QJX63UDE76OA': 0.9030594729312938, 'AK0PL6SBDEJB9': 0.9052915093930762, 'A29CT3MXKBWVQ6': 0.9269761583097242, 'A150MRVGEWP0UT': 0.9020931929982162, 'A313DADVI76HKM': 0.9030029526079453, 'A21CL3NXLUNU9E': 0.9011249560290039, 'A29K3DJ2VUC161': 0.902027033032391, 'A1QWGPBP61DPQP': 0.9088474379318925, 'A13VHU0AT3JOLO': 0.9000487463724668, 'A1NU5AWRPSVNZ6': 0.9013447104713719, 'AAGVCLVJPXRSJ': 0.9019841055589211, 'AUBKXJYRKGOF4': 0.9019973994154493, 'AUKS4R8344FYI': 0.9020997189184894, 'A1G05NHR0OUNA5': 0.9000879394132523, 'A2O7IKI1X057WF': 0.9231900956939089, 'A37YHG80LPSWOZ': 0.9151306423808417, 'A3PXDMDORWG94N': 0.9052725035034329, 'ATZ4J6SWWC3IB': 0.9201234369178012, 'A2V94KBIU40GLJ': 0.9208825270349872, 'A2Z60KCBP4PMJV': 0.9061455454252848, 'A3EFSBIEI3NQX1': 0.9247828527754207, 'A29XE4FQLKI2RQ': 0.9325062670033344, 'A2TSXV49LI7QV2': 0.9091981653676053, 'A1CFHQB38SP6FI': 0.916643364417283, 'A2OBFZZ21JVSL2': 0.9123584810630927, 'A1HIK501QJ557Y': 0.9093573567176254, 'A2IH8UUAUHMGLW': 0.906513016238636, 'AX04HWP70EXLD': 0.9065628491595288, 'A3LVMQC1H8P7T1': 0.937349276281887, 'AWPC7EEVYZ813': 0.9058575414019342, 'ALLAFBUDXCMIQ': 0.9010621675685018, 'AGXIQ5L4AV98J': 0.9190458623273818, 'A1RZ3NSBXATFS3': 0.9149041553889178, 'AKS80VIR3HK51': 0.9043759355603713, 'A2QG57J57D1XU5': 0.910463346374995, 'A2VC8DKCPHMI2J': 0.9009430153824378, 'A24WI3OOZ6KXY8': 0.9068268290046669, 'A2FSHYBOKPZ6YU': 0.9260622823883601, 'AORSH1CU6IPHC': 0.9045973355768604, 'A242NT93V44CAF': 0.9127685146767093, 'A15VECCEZF2978': 0.9052657953001013, 'A2N61X08FM8WCT': 0.9063986834130207, 'A362RDKIELNGRO': 0.9114635459794046, 'AXISEPTJE884B': 0.901043438120583, 'A3V5H95A9S7MK4': 0.9015925833972531, 'AD8MTPO76AYGB': 0.9020157803831639, 'AMLIN6BDW4WCK': 0.9186664377275165, 'A23S8XE9IJWFNM': 0.9063140474665872, 'A1IPAD2MBCVVT5': 0.9003317602619042, 'ADIDN6XPZSXWB': 0.9320137867049431, 'A3VYCWBO41LI0R': 0.9070872122439383, 'A1FGEAEGWVYJ2I': 0.9052727330184873, 'A4DIHTMZHKYGI': 0.9090873910985728, 'A182BL642WB691': 0.9066259058607775, 'A2KW2CYEFOG5RV': 0.9417749005579961, 'AMZ01E1A3WV6M': 0.9068787331076738, 'A1YBK8Y8ESTL26': 0.9075935408563319, 'ABVZ8AHVYH0NF': 0.9051923424890086, 'A189L1FE2V8U': 0.9104604948683822, 'AC1ZTPFXAT9U6': 0.9109598752889987, 'A1Y7RWE61JYBF2': 0.909114658012169, 'A2C7RD1PVTNS8B': 0.9172344712897403, 'A3V1DF7J7ORYS8': 0.9028481877345483, 'A20XZ7TXYU1QEE': 0.9111306827360168, 'A2KBGB4GFPQRO6': 0.9062163301138323, 'A3JAH1KIE48M7E': 0.9074197421171957, 'A3SV9W045EB29E': 0.9205255591579747, 'AIQLEMBZQ4WQQ': 0.9377490553442139, 'A16KKQXQCFG8VL': 0.9002819477212024, 'AFBQW4UGDPWJS': 0.9221322585184201, 'A393MV5JXZF5AP': 0.9143508244277927, 'A1E0STITWHJ0Z5': 0.9027328997841173, 'A10DUR426OLQIA': 0.9250607323065703, 'A3ITRMGQR1K1O9': 0.9147676996584309, 'AEGAWL1J7R8DX': 0.9151238461136527, 'A2L9D2T240905Z': 0.9269435438048199, 'A1Q5N7TX9M3SPW': 0.9152937055242221, 'ASHPEB7FPWATD': 0.9138886564563097, 'A2OHGG7WO1Y041': 0.9222824790761487, 'A1F4MNJDCOAX7U': 0.9012652381579792, 'A19MUBPFBF4TQU': 0.9242087266423292, 'A19UQIVY1JM9R9': 0.906317056648018, 'A2VET003MCRZM2': 0.9274246880204061, 'A3N9EAN3RAQRMS': 0.9054230947038878, 'A2IIRDHDYFL42P': 0.9017701643871888, 'A1H4BC52AQJLQJ': 0.9073551111696936, 'A26SN2CVQM4FKM': 0.9155166738608114, 'A3QICC3V0SAPWT': 0.9140671671099128, 'A1YMJ06HF5JW43': 0.915210807177635, 'A2IK6FJZPDAXW4': 0.9163669229415906, 'AXGVX02ZB0YCZ': 0.9175042092675791, 'A2W8SXY9PZHKIW': 0.9105285620932406, 'A1CSOOLZWUWB57': 0.9036607499745912, 'A2HVEVU2RBTQ1L': 0.9233566663872214, 'A37QGON7BCCVYB': 0.9050875479857616, 'A3W31W407OHUDU': 0.9207171365334128, 'A16MAT54GTKJYS': 0.9142503044446653, 'AEVSRK7S3K8QU': 0.9150528000771436, 'A158GV8EBVD0WN': 0.9137887805780927, 'AV6BQVVC1XE4E': 0.9026724468903744, 'A1IR0HICH5PVC6': 0.9038407542198776, 'A2GPLV50TR8UK0': 0.9013982905119954, 'A2U0A1VT6WTQ0N': 0.9005894570235183, 'A3M1F7BNER0SN5': 0.916918426028806, 'A3102RL8MM5J2Z': 0.9097129446647287, 'A1TEBSNK5A9XX9': 0.9483006030890793, 'A22I3TETLAOW7X': 0.903821443067479, 'A3ERNYS02WFF1N': 0.9556416686824848, 'A3UV4P31G4LT0': 0.9016518606984458, 'A2GCJMPR4E9X04': 0.9025490604891581, 'A1OYQDBJKRS1UR': 0.9170051804926694, 'AILV4CXK8LEBV': 0.9042849878337478, 'AFQ1EGZML6OZL': 0.9018139953518054, 'A1L2YGNPQZI0YU': 0.9104865022980008, 'AVGHP6NQ8EANS': 0.9020204593217123, 'A1UNFJE6W5I2LV': 0.9204204279979975, 'AINGNE1J86KTH': 0.9093929901005705, 'A1QFC3ZKIIRG4J': 0.9030474193136051, 'ADZ1E2SYWSG99': 0.9022640950499315, 'A3AN7G2565T80X': 0.9022647143210912, 'A3BESG0D1NJOHT': 0.9024070307832468, 'A2NQWI4N95FU2G': 0.9022949655766224, 'AD4QJCW3DML1V': 0.9051254522144501, 'A2FCD6CIYJU3W8': 0.9057066043457965, 'ACCTVWELQLBWR': 0.9018100382124586, 'A2DUMTXCZ6T6TI': 0.9053423908866403, 'A1BTNPMESS99PL': 0.9113361372016703, 'A1KNIKTZL05V0F': 0.9060017097004773, 'A22BLJR5YR5Y2E': 0.9008260016175605, 'A3I29ETB8QSQZA': 0.9038902407127541, 'A21FO8HXJECL08': 0.9235805145437287, 'A3SWKQ5C1JA6KA': 0.9010328279818288, 'A3DBH7SSMLN0A1': 0.9057434587517778, 'A13PKCWW3W5WJ4': 0.9043753578914645, 'A1EADPYC9GV6Y0': 0.9030423664992331, 'A3BA9J9G2C1YSG': 0.9234848452294286, 'ATQ2J7U9Y23E2': 0.9276153956143471, 'A3J7KKG9O7KAZM': 0.9421363849198947, 'A37ZHLFHHWBO5E': 0.9164598140662698, 'A17D77DFID0GZG': 0.9081763287697484, 'A2UEH0U5CV3053': 0.902151762851528, 'ARJ97ZO02Q2PX': 0.9000914358409586, 'A2CVFMCOCD6LE4': 0.9304966640217011, 'A64EG33PLEGLP': 0.9056669401777494, 'A1KC319LTINC7J': 0.9044897525264289, 'AJ2DU4JFF2DYT': 0.9028706794497415, 'A26TN8R4COZSJ4': 0.9070126452468621, 'A2JNGOT2TEZ09L': 0.9382409313772042, 'ALO0EXS224ZSU': 0.9024330035683996, 'A3L9P7Y3T1ACR': 0.9378594649285272, 'A129ODJ5LISTF8': 0.9105918111476461, 'A2X6037PJLQGEC': 0.9004062966089409, 'AWIOLCF6GX1TR': 0.9013505878780613, 'A178OW8HBO4FZF': 0.9254053416744311, 'A1J8FM4JZ2L1U7': 0.9327751283565703, 'A5PZ6VU6AG6SV': 0.9113622821396364, 'A2754QG0NENPVX': 0.9256534060892532, 'ANVTGPMF2LNBI': 0.912843488055097, 'A2RNCCOXUP695': 0.917406857474453, 'A1ZW64HE8UW6MT': 0.9458910199697984, 'A32HAMICRE52M': 0.9371036792385863, 'A16F8QZRRJPRX1': 0.9185577605191498, 'A3UZNR6I1YMMXB': 0.9261346674435134, 'A25HXN3SKYOBU6': 0.9031606049853614, 'A3FOASYBGBOETQ': 0.9090579502422378, 'ADULG6NEGK5QN': 0.9076999139287162, 'A19V3F70CB0NNF': 0.9221461927071536, 'A1PE5LTX1JODTE': 0.901010652263204, 'A2JJTXX1JF9B49': 0.9245065029459788, 'AXU5M1IKME4M0': 0.912746706710272, 'AJEZOYA4MKA8C': 0.9235135602120158, 'A3BY8J0YL12LT5': 0.9297386260782505, 'A1130AMY9KKIBL': 0.9000647592139839, 'AH4HBHRM707WA': 0.9025411931939229, 'AUEPX4XS1U4BY': 0.9069405236759153, 'A19618Z0CRHH3A': 0.9146299867567521, 'A2PGR4POLH29A3': 0.9057308899704563, 'A3KMTRDUT0T1ZJ': 0.9151262757528745, 'A2VAZIULU9APK8': 0.9269399082207452, 'AT78NX5LQDGPN': 0.9236637138900237, 'A3G52XWKNLBC3': 0.9162816193935163, 'AWBIPRIWOV495': 0.9089134280287364, 'A29KDFQ0VJQFU7': 0.9236691486361718, 'A24FFPKHETA4U': 0.905939334461865, 'A1Z3QJ7S9YSLUE': 0.9048708530034315, 'A1OXQAY95B8H84': 0.9366480017520008, 'AG019N8YF04VX': 0.9119974594764021, 'A3BB4F97OOME0P': 0.9242507116209696, 'A3AHM7S37977OB': 0.912654958535129, 'A1UOKAFJLULERV': 0.910552083971343, 'A1G6IPZ4FCUA20': 0.9468450499167109, 'A2WPK6V72I75MV': 0.9347034797705018, 'ASEYZYO85DOTA': 0.9026219609477035, 'A32IW1O6ATISJ0': 0.9098810890276291, 'A2EQZ0EFUY4YP': 0.9124784162277478, 'A10HA2WMZC4TJR': 0.9100573125197291, 'A1D7ADJHRILFT0': 0.9439954609564507, 'ANP0AC5FJISWH': 0.9116223321238454, 'AZLDBDKGJ2HU9': 0.9080112349029026, 'A1VXBI4OL74SOT': 0.913755646753759, 'A3GHTK2FV1U3AO': 0.9369656075623652, 'A1AAFN1DYNMFWR': 0.9062175914215357, 'A2KNZ7MRTIOIDK': 0.9085286232092078, 'A3MW9Y5DVZC91H': 0.9003800591492356, 'A3UZ9O06G1QG70': 0.9039795738890408, 'A3BH9XC0BVO1AG': 0.9336352036457655, 'AUKDOB4DXLZD7': 0.9083011366299598, 'A19XKR1OZI46X6': 0.9070867798657487, 'A1PIGS0E1W534': 0.9103375381212515, 'A35DZ2414ZIFSQ': 0.9085930063917687, 'A3BTL4FV6ODKAT': 0.9115405065163344, 'A3TZDNT0VBR82A': 0.9326136490834472, 'A2F2BFY6FBM9IL': 0.9097725191420409, 'A1X8X47IEVEAZD': 0.9257413980608058, 'A2TWY656F94W0Z': 0.9353628234964955, 'A3LIG7ZZ5OFCWV': 0.9229850782479302, 'AWJLQZ4UP2TNL': 0.9112813326406659, 'A5OLEEWYH6NJA': 0.9058470252042096, 'A23HJIO9HORYGJ': 0.9074726819691741, 'A1PXNZ92SXPMU4': 0.9096110422344492, 'A16M4DUV772A5P': 0.9012756390896729, 'A3KXW71PSBR7OB': 0.9280126288257096, 'A14X9ZS4UVLLU': 0.9098579309957556, 'A56HXFPP8GUCS': 0.9015317936073765, 'A2D52GYT3BEAQX': 0.9113365840021536, 'A17LCDEFG5OXSQ': 0.920974310763336, 'A3L82NI82NUDYM': 0.910854806430623, 'A21OTH2LUE1NJ': 0.9228042919365231, 'A335Z7QS1U58X4': 0.9101080636601068, 'A3GH2VSY67AD2Q': 0.9062773201835009, 'A1LK3VZ7AXZ52C': 0.9005961800731348, 'A2NHKCBKO382CJ': 0.9145555354244638, 'A33N3Z9MYSIPRO': 0.9167923805110094, 'A1EVHA2O4N3PE8': 0.9194474721096019, 'A2UGR7VULJBQ2N': 0.9216929654255195, 'A37RTM7Y7O6GLN': 0.9278103569042025, 'A3QWYSPXCCYYNW': 0.9047854641992306, 'A2NJOH0ESFZ1D6': 0.9062683012112687, 'AMMYSK6O8AG6D': 0.9015115783722614, 'A193X4MV43Z6WY': 0.9064237566450938, 'A1ORXCWSRWDTOK': 0.9042335973502746, 'A3NV9BJPA3FJYB': 0.9025899470668014, 'A1UBSG3ILBWF6E': 0.9015265704463312, 'A2KX54XAH5YGAW': 0.9154195859921355, 'A3TANESAF34ISM': 0.9286449713776029, 'A1FD519O6CMVDV': 0.9190439610714517, 'A2YMN7GAW51S6T': 0.9226213286410561, 'A2U38J8EIZQ29A': 0.933493363648612, 'A3UJNWD1UG0U53': 0.9074770881419819, 'A2PGM0MJYSGNQP': 0.9080038320819911, 'A2ZX7WLWYETI0T': 0.906175772719876, 'AYLP4GB1TA7W2': 0.9003625541432427, 'A2F5B09QDQ9CSY': 0.9061244306887726, 'A2UENE0RI2LTO3': 0.9085299058071524, 'ASN50GDDPTV2X': 0.9084752446406476, 'A25RHS4R7N67SV': 0.9149811027516392, 'A26ZAN3YJ1CE39': 0.9076796544861322, 'A9W2CF4Y7W790': 0.914883514488319, 'A138H412RUV6HT': 0.9284928406813691, 'A3TN5TXFB97A75': 0.9192261156082896, 'AJSLT738XDIGF': 0.9028748409093873, 'A4047ZP3KTY8Y': 0.90585200847014, 'A32DAI53JLA77L': 0.9161899931698065, 'A2O5LFRY1R43VU': 0.9066637772674706, 'A3IBUNOV6DQOG4': 0.9194953729832775, 'A2KRW53YMGI20P': 0.9049415824000525, 'A2LOBAZBVYV94C': 0.9038724571827168, 'A33HEQ56IVOY84': 0.9083345330162711, 'A2JOVN3OCXAXWX': 0.9288476651390144, 'A1VQM4XDMANK5H': 0.9006763032080173, 'A30FLJDFNPDWWK': 0.9122975545416219, 'A10DX0AIXHBLT9': 0.9044838864684639, 'A34HMNURWL2GB2': 0.9191037913533978, 'A3LMJPZATWW89N': 0.9132609200128567, 'A2WZV4V9HEKB8A': 0.9164441209935502, 'AJVODJFKBSL8H': 0.9069236039435287, 'A2273Y5D9ZXQP5': 0.9089648937003845, 'A2DLDLDTV3951N': 0.9040153345622147, 'A1CGHDFA5DVEM5': 0.9024479073926744, 'A1U0VQ6GGR0RJY': 0.9179904880233053, 'A36JW544D5W8PT': 0.921019087486865, 'A5X3OZ3GTDVM4': 0.902655244772332, 'A3CN86YOP0QMGA': 0.9204874642049509, 'A2ZKB9XFUCOWSH': 0.9023328335442711, 'A20UQ8FQ8ON5BS': 0.9008826220614057, 'AGGNR8HJ7N8DF': 0.9083042747265635, 'AZUCRHSUGZX6N': 0.9221616683618026, 'A28ZH0HA4Y6N5V': 0.9069900143243227, 'AGPZI6LD0OTCR': 0.905462435538758, 'A3NSEKP1W6WBOC': 0.9021822482711854, 'A16JT7E5121OAB': 0.9153279606365888, 'A7QO3K6URKTMV': 0.9200042611470091, 'A2Q481LJ6PGVZ0': 0.9384423769084171, 'A3LG8W19C1TVRM': 0.9076443444820184, 'A37EOLAE5SITDL': 0.9172968018847634, 'A1LGTDEV5GQFDY': 0.9199592906280663, 'A2L6QS8SVHT9RG': 0.933018285428926, 'A264H78TL8KTUX': 0.9129018854133528, 'AKE3QU4INDN43': 0.9068225174423755, 'A3Q2406BDV9VM': 0.9068750344131272, 'A2KPDRY4YRR7WP': 0.938832118054565, 'ABKQ6LO184GRG': 0.9034563642353545, 'A2OAS9BIIM15V0': 0.9059497333675521, 'A3LZIMOE4ALOZO': 0.9114584211504952, 'A3F54RM9IXQ8IJ': 0.9005473515637696, 'A1O7AKVUH4482D': 0.9220243922496755, 'A2MW90O3P2GOO5': 0.9110941576315524, 'A2632K1EPL1NFJ': 0.9113183542983245, 'A1FQMYVNQDW99I': 0.9360077922523367, 'A12CYCSQWURQQ1': 0.9439970366035808, 'AIW18632MS0Z7': 0.9015944810733942, 'A1GV9YKRGB4MSQ': 0.9857287649535986, 'A1O4J9WSLAYVEF': 0.9015225268252325, 'A3OGJWZBTZ8JU0': 0.9021235255215025, 'A2IXZYD5OJXTUJ': 0.9121327895218401, 'AM8J1UVGVYAL4': 0.9387977967568104, 'A3J7VJKUFYHR55': 0.9148217216384584, 'A1J6T9E6PA6SYT': 0.9152232580762318, 'A2OAE9NZTTWS4': 0.9214788463582263, 'A216Z266WSNL4S': 0.9044653821100955, 'AFMLXPFZUU72R': 0.900122130429835, 'A7HVGZVW0VBTO': 0.9144122817357219, 'A3A671GTJDBYP7': 0.9366850992482352, 'A17HKMNGZVXXGJ': 0.9088340183312641, 'A345XOQZWYOXSN': 0.9007529763512228, 'A34GJZ59XS9CUX': 0.9189581681033031, 'A1JVHY4TJHOVLQ': 0.9149337529995429, 'A278P6YIP46M74': 0.9383969385939072, 'A2WFZWRYWLC20S': 0.9043935857467693, 'A2WWME6O1TUUGG': 0.901144169892758, 'AO42WR8XF5N0T': 0.9015999209604724, 'AZL4S5DPF65BK': 0.9174697868296244, 'A2D8T8HTOHCR2I': 0.9037382268841236, 'A24I3YLQ4HUDV5': 0.9197221815766998, 'A2PHZHZIRZCDGV': 0.9097730468283618, 'A2NUHWMHA9XNKV': 0.9222680484056401, 'A5IB4TLAEY7SU': 0.9265046530793803, 'A1ENVVVMP8WXYW': 0.9488901797457971, 'A2VJNS75D4WPL': 0.9039518729953362, 'A3IIBMVS5WHM5L': 0.9018598096580565, 'A27H9DOUGY9FOS': 0.908129111954454, 'A9NGI8U2MEJ08': 0.91246747877699, 'A2KTI9ZCJAUZA': 0.9215310333999149, 'A1K76TQUBUAH6E': 0.9111675810979758, 'A14H842QXFTOBZ': 0.9070005835545146, 'A10P1YIWCMGLKM': 0.93394451884426, 'AMESW162KRMM1': 0.9137289545527169, 'A2HHTJR5RFT1BS': 0.9135424101895326, 'A103B6MQ5IF2BK': 0.9035631726309731, 'A3LO9QLVW3PH84': 0.9002448106042674, 'A8CSNKZX4TWV2': 0.902869216504872, 'ATIX7KE42V5C9': 0.9211603408352967, 'A3V9LN75FJCV16': 0.9065080387441548, 'A3KYOXGUXSGY5B': 0.9188620765220598, 'ASVE4IDOBOXN5': 0.926950682451482, 'A1VB3ELNSUGULE': 0.9239412014649457, 'AK9FTWLCW09RR': 0.9019724590122726, 'A1B9SLSI2GBFTB': 0.902202584576978, 'A3OVD1K3DYKMKE': 0.9117882271127271, 'A1Y32FBX45NCNL': 0.911421438255532, 'A2S4NT9KQ5PXVN': 0.9080703594208537, 'A34QRIUODNE0WO': 0.9126781693952519, 'AI07HX1IBD8KK': 0.918319811611586, 'A18BMA5D7WJ5SA': 0.9271621886923954, 'AYPEPA3VS4KDM': 0.9210565879864882, 'AFMY7RKRWMZSU': 0.9037895037581734, 'A1F70KXI4UC60P': 0.9106267894233308, 'A18WU2OL0NPM2F': 0.9079008741857088, 'A8SII63G1RISZ': 0.9093827322273028, 'A2IQYFBOJHOLJJ': 0.9073285869120864, 'A3U5JCXIXTGSLN': 0.921383824169942, 'A3MSIMW9K5METI': 0.9003495136771734, 'A2ZEMRDW8GRZZS': 0.9289987790249367, 'A3SD3E6FIS6CS9': 0.9053660913995033, 'A2QSBOAAGW1I1H': 0.9008120023846008, 'AFIC1B2OMXMVF': 0.9251674007813459, 'A19KLUZ1XD3SRN': 0.9148957296870978, 'A2OMVLE72OIAZJ': 0.9055785672361104, 'A21MEWCY4UI195': 0.9142971510784963, 'A2T67SR2FV79O2': 0.9001618935672303, 'A25BP2AZJDM7QL': 0.9200719607144129, 'APFSGJQUOWFVS': 0.922136823359719, 'A2I8KUDXTC9WYI': 0.9369354021716843, 'A2CMYN5JP27Y3O': 0.9274946183657937, 'ATZ4ETDUWDY5C': 0.9147436682053708, 'A19FZ6LJDCO4Q': 0.9631155092842048, 'A3QAMIFHNADIL2': 0.9759085711225098, 'A35HZ87UWCTOAJ': 0.9615885120756443, 'AR21MJKTQ7FQF': 0.9451467069734443, 'A1E9Z0CK7PLXTB': 0.9940075006980702, 'A2ORLJWY9Q3BSW': 0.9378334981334476, 'A39RVSTYALW9VZ': 0.9527626509293651, 'A3UWFFS3BAQWQI': 0.9834605044480992, 'A1PB6OT0OOPKNQ': 0.9975664507688152}\n",
            "\n",
            "\n",
            "\n",
            "Los usuarios maliciosos son: {'A2G4GBZBU0191J': 0.19792147217924266}\n"
          ]
        }
      ],
      "source": [
        "cant_reviews = df3[\"userID\"].value_counts()\n",
        "evil_users = {}\n",
        "extremaly_fair_users = {}\n",
        "for user in Fu.keys():\n",
        "  fairness = Fu[user]\n",
        "  if fairness <= 0.2 and cant_reviews[user] >= 5:\n",
        "    evil_users[user] = fairness\n",
        "  if fairness >= 0.9 and cant_reviews[user] >= 10:\n",
        "    extremaly_fair_users[user] = fairness\n",
        "print(\"Los usuarios extremadamente justos son: \" + str(extremaly_fair_users))\n",
        "print(\"\\n\\n\")\n",
        "print(\"Los usuarios maliciosos son: \" + str(evil_users))\n"
      ]
    },
    {
      "cell_type": "code",
      "execution_count": null,
      "metadata": {
        "id": "93E8RsjfHvsK",
        "outputId": "c600a9e9-23e9-4f75-f04d-342effa56ad9"
      },
      "outputs": [
        {
          "name": "stdout",
          "output_type": "stream",
          "text": [
            "416\n"
          ]
        }
      ],
      "source": [
        "print(len(extremaly_fair_users))"
      ]
    },
    {
      "cell_type": "code",
      "execution_count": null,
      "metadata": {
        "id": "ExZhBS1zBNBG",
        "outputId": "1fd71137-0c12-45fb-f9e2-da030326fe07"
      },
      "outputs": [
        {
          "name": "stdout",
          "output_type": "stream",
          "text": [
            "Iteracion 0\n",
            "Iteracion 1\n",
            "Iteracion 2\n",
            "Iteracion 3\n",
            "Iteracion 4\n",
            "Iteracion 5\n",
            "Iteracion 6\n",
            "Iteracion 7\n",
            "Iteracion 8\n",
            "Iteracion 9\n",
            "Iteracion 10\n",
            "Iteracion 11\n",
            "Iteracion 12\n",
            "Iteracion 13\n",
            "Iteracion 14\n",
            "Iteracion 15\n",
            "Iteracion 16\n",
            "Iteracion 17\n",
            "Iteracion 18\n",
            "Iteracion 19\n",
            "Iteracion 20\n",
            "Iteracion 21\n",
            "Iteracion 22\n",
            "Iteracion 23\n",
            "Iteracion 24\n",
            "Iteracion 25\n",
            "Iteracion 26\n",
            "Iteracion 27\n",
            "Iteracion 28\n",
            "Iteracion 29\n",
            "Iteracion 30\n",
            "Iteracion 31\n",
            "Iteracion 32\n",
            "Iteracion 33\n",
            "Iteracion 34\n",
            "Iteracion 35\n",
            "Iteracion 36\n",
            "Iteracion 37\n",
            "Iteracion 38\n",
            "Iteracion 39\n",
            "Iteracion 40\n",
            "Iteracion 41\n",
            "Iteracion 42\n",
            "Iteracion 43\n",
            "Iteracion 44\n",
            "Iteracion 45\n",
            "Iteracion 46\n",
            "Iteracion 47\n",
            "Iteracion 48\n",
            "Iteracion 49\n"
          ]
        }
      ],
      "source": [
        "###### REV2 ALGORITHM ######\n",
        "\n",
        "for i in range(0, 50):\n",
        "  print(\"Iteracion \" + str(i))\n",
        "  for userId in df3['userID'].unique():\n",
        "    sumRup = 0\n",
        "    doutu = 0\n",
        "    for productId in vecinos[userId]:\n",
        "      sumRup += Rup[(userId, productId)]\n",
        "      doutu += 1\n",
        "    Fu[userId] = sumRup / doutu \n",
        "  \n",
        "  for productId in df3['productID'].unique():\n",
        "    sumRup = 0\n",
        "    dinp = 0\n",
        "    for userId in vecinos[productId]:\n",
        "      sumRup += (Rup[(userId, productId)] * rating[(userId, productId)])\n",
        "      dinp += 1\n",
        "    Gp[productId] = sumRup / dinp\n",
        "\n",
        "  for userId in df3['userID'].unique():\n",
        "    for productId in vecinos[userId]:\n",
        "      Rup[(userId, productId)] = ( ( 1/ ( alpha1 + alpha2 ) ) * ( alpha1 * Fu[userId] + alpha2 * ( 1 - ( abs( rating[(userId, productId)] - Gp[productId] ) / 2 ) ) ) )\n",
        "\n",
        "\n"
      ]
    },
    {
      "cell_type": "code",
      "execution_count": null,
      "metadata": {
        "id": "ITAfzSY4BNBH",
        "outputId": "d9ea9c77-28bf-4e20-8489-8e4879971353"
      },
      "outputs": [
        {
          "name": "stdout",
          "output_type": "stream",
          "text": [
            "Los usuarios extremadamente justos son: {'A1LMUHXVNBLTGZ': 0.9159425108410257, 'AVVFMZTW94F8': 0.9051590103452162, 'A3R52J21NWLWW2': 0.9012227174960931, 'AF6XVE84L68BM': 0.9342714573887926, 'AI6CX6EK67FJJ': 0.921170879070631, 'A3DH74L21G9QFJ': 0.9032779950163189, 'A37FULV9NLQYXU': 0.9051377370139855, 'A2GBQVP43UVKTA': 0.9076886077348616, 'AWBUA3QUM6DRY': 0.9066889105201817, 'A3EZD11AFUX23K': 0.9136461203078658, 'A15BN1AMRT8FP1': 0.9153936917399634, 'A22XSRK69MIRG4': 0.915846246677547, 'ARFRKSZXZF0PS': 0.9120542101189845, 'A127GZ51PD786F': 0.901504210377423, 'A2ZNMPZMLRRC8R': 0.9024188415930878, 'A1ISGQPXW3BOHN': 0.9142472575823818, 'AGC75EPFB7CYD': 0.9104858094258028, 'AO49H7W3JR6RL': 0.9030439463597887, 'A2F0XN0L5K7N0T': 0.9295085091622848, 'AY5VJCY3K4DD8': 0.9194160775915865, 'A24KBB6X5URQ63': 0.9017058281232484, 'A1TR1R2QKWRSRA': 0.9117748538007312, 'A3QJX63UDE76OA': 0.9017941132059939, 'AK0PL6SBDEJB9': 0.9043306703670065, 'A29CT3MXKBWVQ6': 0.9282159939860536, 'A150MRVGEWP0UT': 0.9028531535830313, 'A313DADVI76HKM': 0.9033279067330446, 'A21CL3NXLUNU9E': 0.9029094122301119, 'A1QWGPBP61DPQP': 0.9084832496055112, 'A13VHU0AT3JOLO': 0.9005901184720727, 'A1NU5AWRPSVNZ6': 0.9020596225071592, 'AAGVCLVJPXRSJ': 0.9031665277503459, 'AUBKXJYRKGOF4': 0.9007561269597784, 'A3VEF9VC3JRLYB': 0.9010575927380955, 'AUKS4R8344FYI': 0.9017895943183576, 'A1G05NHR0OUNA5': 0.900419631114405, 'A2O7IKI1X057WF': 0.9218345754956789, 'A37YHG80LPSWOZ': 0.9143035975149882, 'A3PXDMDORWG94N': 0.9063774170306362, 'ATZ4J6SWWC3IB': 0.9193424357909885, 'A2V94KBIU40GLJ': 0.919910633049243, 'A2Z60KCBP4PMJV': 0.9046401412056604, 'A3EFSBIEI3NQX1': 0.923696764067189, 'A29XE4FQLKI2RQ': 0.9335238613238638, 'A2TSXV49LI7QV2': 0.9113272315189168, 'A1CFHQB38SP6FI': 0.9160532815233977, 'A2OBFZZ21JVSL2': 0.9131021127290387, 'A1HIK501QJ557Y': 0.9086048917357606, 'A2IH8UUAUHMGLW': 0.9049024220858207, 'AX04HWP70EXLD': 0.9042599483630209, 'A3LVMQC1H8P7T1': 0.939015428194639, 'AWPC7EEVYZ813': 0.903230380304342, 'ALLAFBUDXCMIQ': 0.9028955820967457, 'AGXIQ5L4AV98J': 0.9188250927251911, 'A1RZ3NSBXATFS3': 0.915349176432056, 'AKS80VIR3HK51': 0.9038607016949539, 'A2QG57J57D1XU5': 0.9106830583256023, 'A24WI3OOZ6KXY8': 0.9059722425107606, 'A2FSHYBOKPZ6YU': 0.9257997827202207, 'AORSH1CU6IPHC': 0.9044358874218973, 'A242NT93V44CAF': 0.9138271294385856, 'A15VECCEZF2978': 0.9064441624677269, 'A2N61X08FM8WCT': 0.9032224090849953, 'A362RDKIELNGRO': 0.9119417435511536, 'AXISEPTJE884B': 0.9004343472420091, 'A3V5H95A9S7MK4': 0.9002451522624889, 'AD8MTPO76AYGB': 0.9010046504568564, 'AMLIN6BDW4WCK': 0.9191590764515941, 'A23S8XE9IJWFNM': 0.9056029436454502, 'A1IPAD2MBCVVT5': 0.9021062239767943, 'ADIDN6XPZSXWB': 0.9326293122929542, 'A3VYCWBO41LI0R': 0.9074572347085559, 'A1FGEAEGWVYJ2I': 0.90682597338652, 'A4DIHTMZHKYGI': 0.9109520551031505, 'A182BL642WB691': 0.9075622484175657, 'A2KW2CYEFOG5RV': 0.9431211649237833, 'AMZ01E1A3WV6M': 0.9072964379152119, 'A1YBK8Y8ESTL26': 0.906797328569521, 'ABVZ8AHVYH0NF': 0.9034908173768453, 'A189L1FE2V8U': 0.9101491196278514, 'AC1ZTPFXAT9U6': 0.911213720773689, 'A1Y7RWE61JYBF2': 0.9083619138895257, 'A2C7RD1PVTNS8B': 0.9170962218557521, 'A3V1DF7J7ORYS8': 0.9023230456972943, 'A20XZ7TXYU1QEE': 0.9123446853852355, 'A2KBGB4GFPQRO6': 0.9060223948260298, 'A3JAH1KIE48M7E': 0.9079473730228245, 'A3SV9W045EB29E': 0.9202102162588922, 'AIQLEMBZQ4WQQ': 0.9379298028569956, 'A16KKQXQCFG8VL': 0.9007916447343718, 'A36C355TR6DEF2': 0.9003005525523587, 'AFBQW4UGDPWJS': 0.9240143228187179, 'A393MV5JXZF5AP': 0.9141638183489008, 'A1E0STITWHJ0Z5': 0.9023268094685212, 'A10DUR426OLQIA': 0.9246214176441254, 'A3ITRMGQR1K1O9': 0.9104294531198217, 'AEGAWL1J7R8DX': 0.9163533080812686, 'A2L9D2T240905Z': 0.9262819646780752, 'A1Q5N7TX9M3SPW': 0.9139416191613271, 'ASHPEB7FPWATD': 0.9126459151093186, 'A2OHGG7WO1Y041': 0.9209862795751983, 'A1F4MNJDCOAX7U': 0.9018030612539711, 'A19MUBPFBF4TQU': 0.9270275483238775, 'A19UQIVY1JM9R9': 0.9040773718125152, 'A2VET003MCRZM2': 0.9281587638107607, 'A3N9EAN3RAQRMS': 0.9050828946697547, 'A2IIRDHDYFL42P': 0.902570877577509, 'A1H4BC52AQJLQJ': 0.9067439418943319, 'A26SN2CVQM4FKM': 0.9167228611573514, 'A3QICC3V0SAPWT': 0.9148295281983185, 'A1YMJ06HF5JW43': 0.9135412631228675, 'A2IK6FJZPDAXW4': 0.9181827995015711, 'AXGVX02ZB0YCZ': 0.9172736469774123, 'A2W8SXY9PZHKIW': 0.9115736438052686, 'A1CSOOLZWUWB57': 0.9033602843720457, 'A2HVEVU2RBTQ1L': 0.9230887418392669, 'A37QGON7BCCVYB': 0.9052915415662137, 'A3W31W407OHUDU': 0.9219940317911999, 'A16MAT54GTKJYS': 0.913873670343429, 'AEVSRK7S3K8QU': 0.9145821413090655, 'A158GV8EBVD0WN': 0.9127537198624857, 'AV6BQVVC1XE4E': 0.9012642348212637, 'A1IR0HICH5PVC6': 0.9041845348273915, 'A2U0A1VT6WTQ0N': 0.901396241001333, 'A3M1F7BNER0SN5': 0.9187468355758469, 'A3102RL8MM5J2Z': 0.9099985311411288, 'A1TEBSNK5A9XX9': 0.9465316530831841, 'A22I3TETLAOW7X': 0.9022606568923746, 'A3ERNYS02WFF1N': 0.9555511182903432, 'A3UV4P31G4LT0': 0.9045495146656001, 'A2GCJMPR4E9X04': 0.903892418956066, 'A1OYQDBJKRS1UR': 0.9189909749127695, 'A13OUQVT79L9HB': 0.9006213247219087, 'AILV4CXK8LEBV': 0.904059761075784, 'A1L2YGNPQZI0YU': 0.909791814066572, 'A1UNFJE6W5I2LV': 0.9196575030939155, 'AINGNE1J86KTH': 0.9090363647980642, 'A2AALO3JSJNGLZ': 0.9003556035508109, 'A1QFC3ZKIIRG4J': 0.9018115317374272, 'ADZ1E2SYWSG99': 0.9035412540083281, 'A3BESG0D1NJOHT': 0.9010883872021083, 'A2NQWI4N95FU2G': 0.9004667069616796, 'AD4QJCW3DML1V': 0.9036342609671275, 'A2FCD6CIYJU3W8': 0.9050728823612609, 'ACCTVWELQLBWR': 0.9029259332970362, 'A2DUMTXCZ6T6TI': 0.9052051349718696, 'A1BTNPMESS99PL': 0.9106614792066297, 'A1KNIKTZL05V0F': 0.9056995973181082, 'A22BLJR5YR5Y2E': 0.9008843547711985, 'A3I29ETB8QSQZA': 0.9018347230136321, 'A21FO8HXJECL08': 0.9246819090434005, 'A3SWKQ5C1JA6KA': 0.9023675869194753, 'A2GW05MDGKD7JS': 0.9002951293177852, 'A3DBH7SSMLN0A1': 0.9028272542788858, 'A13PKCWW3W5WJ4': 0.9042662878885379, 'A1EADPYC9GV6Y0': 0.9035482259169918, 'A3BA9J9G2C1YSG': 0.9225588765652066, 'ATQ2J7U9Y23E2': 0.9270230390373883, 'A3J7KKG9O7KAZM': 0.9429525135895256, 'A37ZHLFHHWBO5E': 0.9147997261868701, 'A17D77DFID0GZG': 0.9097454729289602, 'A2UEH0U5CV3053': 0.9006581617782601, 'A2CVFMCOCD6LE4': 0.9288545166434857, 'A64EG33PLEGLP': 0.9056675225776748, 'A1KC319LTINC7J': 0.9015750606321107, 'AJ2DU4JFF2DYT': 0.9014112339296121, 'A26TN8R4COZSJ4': 0.9093878911922876, 'A2JNGOT2TEZ09L': 0.9387885697468599, 'ALO0EXS224ZSU': 0.9022179063961442, 'A3L9P7Y3T1ACR': 0.937362276335769, 'A129ODJ5LISTF8': 0.9088089593193094, 'A178OW8HBO4FZF': 0.9255326160765589, 'A1J8FM4JZ2L1U7': 0.9311190306318868, 'A5PZ6VU6AG6SV': 0.9113997396260242, 'A2754QG0NENPVX': 0.9246853324798362, 'ANVTGPMF2LNBI': 0.9138992510641611, 'A2RNCCOXUP695': 0.9150859499858649, 'A1ZW64HE8UW6MT': 0.9459968287049687, 'A32HAMICRE52M': 0.937116267162324, 'A16F8QZRRJPRX1': 0.9184996745670628, 'A3UZNR6I1YMMXB': 0.9268113749295969, 'A25HXN3SKYOBU6': 0.9009692147033208, 'A3FOASYBGBOETQ': 0.9093628498603982, 'ADULG6NEGK5QN': 0.9076127639956036, 'A19V3F70CB0NNF': 0.9235919604133545, 'A1PE5LTX1JODTE': 0.9002158184785962, 'A2JJTXX1JF9B49': 0.9232094184811963, 'AXU5M1IKME4M0': 0.9140968787693979, 'AJEZOYA4MKA8C': 0.9259347505972435, 'A3BY8J0YL12LT5': 0.927335207612518, 'A1130AMY9KKIBL': 0.9003542406942106, 'AH4HBHRM707WA': 0.9029750830911691, 'AUEPX4XS1U4BY': 0.9040400000355666, 'A19618Z0CRHH3A': 0.9118558633765701, 'A2PGR4POLH29A3': 0.9056450272501331, 'A3KMTRDUT0T1ZJ': 0.9152271023130022, 'A2VAZIULU9APK8': 0.9274736939143998, 'AT78NX5LQDGPN': 0.9239732258430624, 'A3G52XWKNLBC3': 0.9154273999392035, 'AWBIPRIWOV495': 0.9107141103743124, 'A29KDFQ0VJQFU7': 0.9230087941505204, 'A24FFPKHETA4U': 0.9028347035172747, 'A1Z3QJ7S9YSLUE': 0.9032840487568935, 'A1X9FXVLR4AAZW': 0.9005803090295349, 'A1OXQAY95B8H84': 0.9384031100878069, 'AG019N8YF04VX': 0.9128277591421673, 'A3BB4F97OOME0P': 0.9245305642066537, 'A3AHM7S37977OB': 0.9126293092136132, 'A1UOKAFJLULERV': 0.910339260091928, 'A1G6IPZ4FCUA20': 0.9449262980167348, 'A2WPK6V72I75MV': 0.9350953638960025, 'ASEYZYO85DOTA': 0.9018241613285477, 'A32IW1O6ATISJ0': 0.9110609257711125, 'A2EQZ0EFUY4YP': 0.9094460861305612, 'A10HA2WMZC4TJR': 0.90882484598088, 'A1D7ADJHRILFT0': 0.9446061368333952, 'ANP0AC5FJISWH': 0.912925433377112, 'AZLDBDKGJ2HU9': 0.9079414811709092, 'A1VXBI4OL74SOT': 0.9132053602985967, 'A3GHTK2FV1U3AO': 0.9373960020745769, 'A1AAFN1DYNMFWR': 0.907091368376427, 'A2KNZ7MRTIOIDK': 0.9079063107016373, 'A3MW9Y5DVZC91H': 0.9013559968556601, 'A3UZ9O06G1QG70': 0.902607125594655, 'A3BH9XC0BVO1AG': 0.933055549235187, 'AUKDOB4DXLZD7': 0.9074971523494533, 'A19XKR1OZI46X6': 0.9066302123142009, 'A1PIGS0E1W534': 0.9073401824367182, 'A35DZ2414ZIFSQ': 0.9071913957169091, 'A3BTL4FV6ODKAT': 0.9117202283883348, 'A3TZDNT0VBR82A': 0.9303581184200229, 'A2F2BFY6FBM9IL': 0.9077900782854489, 'A1X8X47IEVEAZD': 0.9261998561489626, 'A2TWY656F94W0Z': 0.93752002600045, 'A3LIG7ZZ5OFCWV': 0.9216332764004026, 'AWJLQZ4UP2TNL': 0.9101899113305941, 'A5OLEEWYH6NJA': 0.903358829241273, 'A23HJIO9HORYGJ': 0.9058328705182348, 'A1PXNZ92SXPMU4': 0.9088212412908333, 'A3KXW71PSBR7OB': 0.9302399646023917, 'A14X9ZS4UVLLU': 0.9096706250452962, 'A56HXFPP8GUCS': 0.9018374588446813, 'A2D52GYT3BEAQX': 0.9115510959662158, 'A17LCDEFG5OXSQ': 0.9215610239035098, 'A3L82NI82NUDYM': 0.9100844826422307, 'A21OTH2LUE1NJ': 0.9222552472833456, 'A335Z7QS1U58X4': 0.9081441389939123, 'A3GH2VSY67AD2Q': 0.9064417957088317, 'A25AFBV75QOEJD': 0.9001902075459387, 'A2NHKCBKO382CJ': 0.9145938743235112, 'A33N3Z9MYSIPRO': 0.9168070877642295, 'A1EVHA2O4N3PE8': 0.9184282596430023, 'A2UGR7VULJBQ2N': 0.9216532613362828, 'A37RTM7Y7O6GLN': 0.9279426249617168, 'A3QWYSPXCCYYNW': 0.9056561951682522, 'A2NJOH0ESFZ1D6': 0.9060629038141762, 'AMMYSK6O8AG6D': 0.9026475491129556, 'A193X4MV43Z6WY': 0.9056535595055315, 'A1ORXCWSRWDTOK': 0.9017326041970174, 'A3NV9BJPA3FJYB': 0.9036703245288813, 'A1UBSG3ILBWF6E': 0.901301780356609, 'A2KX54XAH5YGAW': 0.9174456017110105, 'A3TANESAF34ISM': 0.9280969613356632, 'A1FD519O6CMVDV': 0.9174019713119451, 'A2YMN7GAW51S6T': 0.9209090825455137, 'A2U38J8EIZQ29A': 0.9306416947636601, 'A3UJNWD1UG0U53': 0.9060039908214187, 'A2PGM0MJYSGNQP': 0.9092639813247994, 'A2ZX7WLWYETI0T': 0.9071855938334945, 'AYLP4GB1TA7W2': 0.9001038172020474, 'A2F5B09QDQ9CSY': 0.9072663032811086, 'A2UENE0RI2LTO3': 0.9066947564722877, 'ASN50GDDPTV2X': 0.9082023144565425, 'A25RHS4R7N67SV': 0.9098686456713967, 'A26ZAN3YJ1CE39': 0.9047211433304634, 'A9W2CF4Y7W790': 0.9142339176057216, 'A138H412RUV6HT': 0.9285753228129712, 'A3TN5TXFB97A75': 0.9193722471153368, 'AJSLT738XDIGF': 0.9027323628121754, 'A4047ZP3KTY8Y': 0.90686339678664, 'A32DAI53JLA77L': 0.9183789270968185, 'A2O5LFRY1R43VU': 0.9086436011622834, 'A3IBUNOV6DQOG4': 0.9196526280926267, 'A2KRW53YMGI20P': 0.9054488743526099, 'A2LOBAZBVYV94C': 0.9040957118051588, 'A33HEQ56IVOY84': 0.9079000178077588, 'A2JOVN3OCXAXWX': 0.9242310369064067, 'A30FLJDFNPDWWK': 0.9132844578541516, 'A10DX0AIXHBLT9': 0.9051024844847619, 'A34HMNURWL2GB2': 0.9199449610629944, 'A3LMJPZATWW89N': 0.9134431032195948, 'A2WZV4V9HEKB8A': 0.9166864249073581, 'AJVODJFKBSL8H': 0.9082994953082253, 'A2273Y5D9ZXQP5': 0.9086785905609354, 'A2DLDLDTV3951N': 0.9032096831677545, 'A1CGHDFA5DVEM5': 0.9012484867944532, 'A1U0VQ6GGR0RJY': 0.9159686995614857, 'A36JW544D5W8PT': 0.9211253476845778, 'A5X3OZ3GTDVM4': 0.90269518007018, 'A3CN86YOP0QMGA': 0.9224520458288522, 'A2ZKB9XFUCOWSH': 0.9014803955880325, 'A20UQ8FQ8ON5BS': 0.900873766940531, 'AGGNR8HJ7N8DF': 0.9096187445146278, 'AZUCRHSUGZX6N': 0.9239687088403394, 'A28ZH0HA4Y6N5V': 0.9075050994117326, 'AGPZI6LD0OTCR': 0.9037847228015978, 'A16JT7E5121OAB': 0.9158647004566269, 'A7QO3K6URKTMV': 0.9209950183774228, 'A2Q481LJ6PGVZ0': 0.9394890980296102, 'A3LG8W19C1TVRM': 0.9061015844030772, 'A37EOLAE5SITDL': 0.9173497874442571, 'A1LGTDEV5GQFDY': 0.9217648804810462, 'A2L6QS8SVHT9RG': 0.9339408810585654, 'A264H78TL8KTUX': 0.9135715673889409, 'AKE3QU4INDN43': 0.9065881092534381, 'A3Q2406BDV9VM': 0.9079358627770914, 'A2KPDRY4YRR7WP': 0.9402934875700252, 'ABKQ6LO184GRG': 0.9023107780367686, 'A2OAS9BIIM15V0': 0.9050155801902738, 'A3LZIMOE4ALOZO': 0.9131131181358466, 'A3F54RM9IXQ8IJ': 0.9006401088977883, 'A1O7AKVUH4482D': 0.9232400866356324, 'A2MW90O3P2GOO5': 0.9119482550932113, 'A2632K1EPL1NFJ': 0.9104132918601309, 'A1FQMYVNQDW99I': 0.9351239435119247, 'A12CYCSQWURQQ1': 0.9430016913332089, 'A1GV9YKRGB4MSQ': 0.9846938778983011, 'A1O4J9WSLAYVEF': 0.9041435638382147, 'A3OGJWZBTZ8JU0': 0.901712077238747, 'A2IXZYD5OJXTUJ': 0.9128619358853833, 'AM8J1UVGVYAL4': 0.9380737655940362, 'A3J7VJKUFYHR55': 0.9131111430724147, 'A1J6T9E6PA6SYT': 0.9160135242598347, 'A2OAE9NZTTWS4': 0.9223643197023703, 'A216Z266WSNL4S': 0.9050949303847062, 'A7HVGZVW0VBTO': 0.913561377149676, 'A3A671GTJDBYP7': 0.935986492067638, 'A17HKMNGZVXXGJ': 0.9075364382885348, 'A345XOQZWYOXSN': 0.9011458020943879, 'A34GJZ59XS9CUX': 0.9187973047900437, 'A1JVHY4TJHOVLQ': 0.9139916665720261, 'A278P6YIP46M74': 0.9402556419118658, 'A2WFZWRYWLC20S': 0.9030967020122149, 'A2PFSNZM3YNIXW': 0.9007576443161555, 'A2WWME6O1TUUGG': 0.9000325895782965, 'AO42WR8XF5N0T': 0.9005046593852114, 'AZL4S5DPF65BK': 0.9185608487182192, 'A2D8T8HTOHCR2I': 0.9022203552086576, 'A24I3YLQ4HUDV5': 0.9209389511704213, 'A2PHZHZIRZCDGV': 0.910912559853767, 'A2NUHWMHA9XNKV': 0.922874293986593, 'A5IB4TLAEY7SU': 0.9270685028266537, 'A1ENVVVMP8WXYW': 0.9506803067958554, 'A2VJNS75D4WPL': 0.9029615254659392, 'A27H9DOUGY9FOS': 0.908077630231466, 'A9NGI8U2MEJ08': 0.9092239267329706, 'A2KTI9ZCJAUZA': 0.9208278093865251, 'A1K76TQUBUAH6E': 0.9114054814665288, 'A14H842QXFTOBZ': 0.90682686477391, 'A10P1YIWCMGLKM': 0.9345127999439017, 'AMESW162KRMM1': 0.913980734550803, 'A2HHTJR5RFT1BS': 0.9144337305457266, 'A103B6MQ5IF2BK': 0.9038430545840733, 'A8CSNKZX4TWV2': 0.9027952597879386, 'ATIX7KE42V5C9': 0.9198848636700258, 'A3V9LN75FJCV16': 0.9060575292870211, 'A3KYOXGUXSGY5B': 0.9198751622400775, 'ASVE4IDOBOXN5': 0.9269802246474821, 'A1VB3ELNSUGULE': 0.9218671777466102, 'AK9FTWLCW09RR': 0.9020278078878314, 'A1B9SLSI2GBFTB': 0.9008414364070658, 'A3OVD1K3DYKMKE': 0.9126820817319495, 'A1Y32FBX45NCNL': 0.9092874503646428, 'A2S4NT9KQ5PXVN': 0.9066093611923149, 'A34QRIUODNE0WO': 0.9124261418887182, 'AI07HX1IBD8KK': 0.9191214133079607, 'A18BMA5D7WJ5SA': 0.92281331656346, 'AYPEPA3VS4KDM': 0.9203132541064014, 'AFMY7RKRWMZSU': 0.903537441737333, 'A1F70KXI4UC60P': 0.9128453471825655, 'A18WU2OL0NPM2F': 0.90716391365091, 'A8SII63G1RISZ': 0.9100450023997585, 'A2IQYFBOJHOLJJ': 0.906855228149263, 'A3U5JCXIXTGSLN': 0.9216436199726412, 'A3MSIMW9K5METI': 0.9014425750694406, 'A2ZEMRDW8GRZZS': 0.9283520988858033, 'A3SD3E6FIS6CS9': 0.9042338018991924, 'A2QSBOAAGW1I1H': 0.9004362945015959, 'AFIC1B2OMXMVF': 0.9257015328400665, 'A19KLUZ1XD3SRN': 0.9152862557568869, 'A2OMVLE72OIAZJ': 0.9044128753149696, 'A21MEWCY4UI195': 0.9126915782205408, 'A2T67SR2FV79O2': 0.9016324867673962, 'A25BP2AZJDM7QL': 0.9188668791350052, 'APFSGJQUOWFVS': 0.9180259764350952, 'A2I8KUDXTC9WYI': 0.9322646911287962, 'A2CMYN5JP27Y3O': 0.9239143995848973, 'ATZ4ETDUWDY5C': 0.9160579901529236, 'A19FZ6LJDCO4Q': 0.9600452968164159, 'A3QAMIFHNADIL2': 0.9721290171941125, 'A35HZ87UWCTOAJ': 0.9585055105810659, 'AR21MJKTQ7FQF': 0.9424279530526278, 'A1E9Z0CK7PLXTB': 0.9921727693902339, 'A2ORLJWY9Q3BSW': 0.9344498850004476, 'A39RVSTYALW9VZ': 0.9502124647156411, 'A3UWFFS3BAQWQI': 0.9810020711959605, 'A1PB6OT0OOPKNQ': 0.9965680382790573}\n",
            "\n",
            "\n",
            "\n",
            "Los usuarios maliciosos son: {'A2G4GBZBU0191J': 0.19981175538135926}\n"
          ]
        }
      ],
      "source": [
        "cant_reviews = df3[\"userID\"].value_counts()\n",
        "evil_users = {}\n",
        "extremaly_fair_users = {}\n",
        "for user in Fu.keys():\n",
        "  fairness = Fu[user]\n",
        "  if fairness <= 0.2 and cant_reviews[user] >= 5:\n",
        "    evil_users[user] = fairness\n",
        "  if fairness >= 0.9 and cant_reviews[user] >= 10:\n",
        "    extremaly_fair_users[user] = fairness\n",
        "print(\"Los usuarios extremadamente justos son: \" + str(extremaly_fair_users))\n",
        "print(\"\\n\\n\")\n",
        "print(\"Los usuarios maliciosos son: \" + str(evil_users))\n"
      ]
    },
    {
      "cell_type": "code",
      "execution_count": null,
      "metadata": {
        "id": "cXKQL_BJBNBH",
        "outputId": "f1b1852f-9276-4733-e29d-ebba96273e94"
      },
      "outputs": [
        {
          "name": "stdout",
          "output_type": "stream",
          "text": [
            "407\n"
          ]
        }
      ],
      "source": [
        "print(len(extremaly_fair_users))"
      ]
    }
  ],
  "metadata": {
    "colab": {
      "collapsed_sections": [],
      "name": "REV2-implementation.ipynb",
      "provenance": []
    },
    "kernelspec": {
      "display_name": "Python 3.9.13 64-bit (windows store)",
      "language": "python",
      "name": "python3"
    },
    "language_info": {
      "codemirror_mode": {
        "name": "ipython",
        "version": 3
      },
      "file_extension": ".py",
      "mimetype": "text/x-python",
      "name": "python",
      "nbconvert_exporter": "python",
      "pygments_lexer": "ipython3",
      "version": "3.9.13"
    },
    "vscode": {
      "interpreter": {
        "hash": "27e2ad4a0342e657746e62340e6e6e8cad81a8c0717f9391725ca2cceed5111d"
      }
    }
  },
  "nbformat": 4,
  "nbformat_minor": 0
}